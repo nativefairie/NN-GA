{
 "cells": [
  {
   "cell_type": "code",
   "execution_count": 5,
   "metadata": {},
   "outputs": [],
   "source": [
    "import matplotlib\n",
    "import matplotlib.pyplot as plt\n",
    "import cPickle as pickle\n",
    "import gzip\n",
    "import numpy as np\n",
    "%matplotlib inline"
   ]
  },
  {
   "cell_type": "code",
   "execution_count": 3,
   "metadata": {},
   "outputs": [],
   "source": [
    "#Loding the MNIST dataset\n",
    "#XTrain[x,y] - x is features; by that we understand 50000 entries, each being an array with 28x28= 784 pixels as elements\n",
    "#            - y is target; 50000 entries each representing the digit the feature represents\n",
    "#XValid[x, y] as above only containing 10000 images\n",
    "#XTest[x, y] similar to XValid\n",
    "data = gzip.open('mnist.pkl.gz', 'rb')\n",
    "#Split data into training and testing data\n",
    "XTrain, XValid, XTest = pickle.load(data)\n",
    "data.close()\n",
    "#print XValid\n",
    "\n",
    "#smaller training set of 100 images\n",
    "raw_image = XTrain[0][0:100]\n",
    "image_labels = XTrain[1][0:100]\n",
    "Visualize = (raw_image, image_labels)\n",
    "#Holy molly, had help plotting this https://stackoverflow.com/questions/37228371/visualize-mnist-dataset-using-opencv-or-matplotlib-pyplot\n",
    "fig = plt.figure(num=None, figsize=(6,6))\n",
    "for i in range(1,101):\n",
    "    ax = fig.add_subplot(10,10,i)\n",
    "    ax.set_axis_off()\n",
    "    ax.matshow(raw_image[i-1].reshape((28, 28)), cmap = matplotlib.cm.binary)\n"
   ]
  },
  {
   "cell_type": "code",
   "execution_count": 54,
   "metadata": {},
   "outputs": [],
   "source": [
    "def reshape_output(i):\n",
    "    output = np.zeros((10, 1))\n",
    "    output[i] = 1.0\n",
    "    return output"
   ]
  },
  {
   "cell_type": "code",
   "execution_count": null,
   "metadata": {
    "scrolled": true
   },
   "outputs": [],
   "source": [
    "yTrain = np.zeros((len(XTrain[0]),10))\n",
    "yValid = np.zeros((len(XValid[0]),10))\n",
    "yTest = np.zeros((len(XTest[0]),10))\n",
    "for i in range (len(XTrain[0])):\n",
    "    yTrain[i] = np.transpose(reshape_output(np.int8(XTrain[1][i])))\n",
    "for i in range (len(XValid[0])):\n",
    "    yValid[i] = np.transpose(reshape_output(np.int8(XValid[1][i])))\n",
    "for i in range (len(XTest[0])):\n",
    "    yTest[i] = np.transpose(reshape_output(np.int8(XTest[1][i])))\n",
    "#print yTest.shape\n",
    "#Now we have split data conveniently!"
   ]
  },
  {
   "cell_type": "code",
   "execution_count": null,
   "metadata": {},
   "outputs": [],
   "source": [
    "#https://pypi.org/project/import-ipynb/ used this to import another notebook\n",
    "import import_ipynb\n",
    "import BP"
   ]
  },
  {
   "cell_type": "code",
   "execution_count": null,
   "metadata": {},
   "outputs": [],
   "source": [
    "nn = BP.nn([784,16,16,10])\n",
    "nn.train(XTrain, yTrain, 0.2, 100)\n",
    "#weell it takes years to compute... //gotta use SGD"
   ]
  },
  {
   "cell_type": "code",
   "execution_count": null,
   "metadata": {},
   "outputs": [],
   "source": [
    "from sklearn.metrics import accuracy_score\n",
    "from sklearn.metrics import confusion_matrix\n",
    "\n",
    "print 'Accuracy is:', accuracy_score(yTest, predictions)\n",
    "print 'How predictions should look:'\n",
    "print yTest\n",
    "print '\\n'\n",
    "print 'How predictions look:'\n",
    "print predictions\n",
    "print '\\n'\n",
    "print 'Errors are:'\n",
    "print abs(yTest-predictions)\n",
    "print 'No of errors is:', np.sum(abs(yTest-predictions))\n",
    "print 'Confusion matrix is:'\n",
    "print confusion_matrix(yTest, predictions)"
   ]
  }
 ],
 "metadata": {
  "kernelspec": {
   "display_name": "Python 2",
   "language": "python",
   "name": "python2"
  },
  "language_info": {
   "codemirror_mode": {
    "name": "ipython",
    "version": 2
   },
   "file_extension": ".py",
   "mimetype": "text/x-python",
   "name": "python",
   "nbconvert_exporter": "python",
   "pygments_lexer": "ipython2",
   "version": "2.7.15"
  }
 },
 "nbformat": 4,
 "nbformat_minor": 2
}
