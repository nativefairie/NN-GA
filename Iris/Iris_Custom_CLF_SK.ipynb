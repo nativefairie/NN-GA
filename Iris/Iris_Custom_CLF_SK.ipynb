{
 "cells": [
  {
   "cell_type": "code",
   "execution_count": 72,
   "metadata": {},
   "outputs": [],
   "source": [
    "#no need to write the formula\n",
    "from scipy.spatial import distance\n",
    "def euclideanDistance(p, q):\n",
    "    return distance.euclidean(p, q)"
   ]
  },
  {
   "cell_type": "code",
   "execution_count": 73,
   "metadata": {},
   "outputs": [],
   "source": [
    "#defining our classifier based on kNearestNeighbor\n",
    "class ScrappyKNN():\n",
    "    #memorizing, to not work directly on values\n",
    "    def fit(self, X_train, y_train):\n",
    "        self.X_train = X_train\n",
    "        self.y_train = y_train\n",
    "    #prediction stores the label of the first closest testing point\n",
    "    def predict(self, X_test):\n",
    "        predictions = []\n",
    "        for row in X_test:\n",
    "            label = self.closest(row)\n",
    "            predictions.append(label)\n",
    "        return predictions\n",
    "    #we take all the points the network has been trained with and we see \n",
    "    #which is the smallest distance between our testing point and the rest\n",
    "    #when found we return the value stored at the i index from the label array\n",
    "    def closest(self, row):\n",
    "        best_distance = euclideanDistance(row, self.X_train[0])\n",
    "        best_index = 0\n",
    "        for i in range(1, len(self.X_train)):\n",
    "            distance = euclideanDistance(row, self.X_train[i])\n",
    "            if(distance < best_distance):\n",
    "                best_distance = distance\n",
    "                best_index = i\n",
    "        return self.y_train[best_index]"
   ]
  },
  {
   "cell_type": "code",
   "execution_count": 74,
   "metadata": {},
   "outputs": [],
   "source": [
    "#loading it nicely since included in SciKit\n",
    "from sklearn import datasets\n",
    "iris = datasets.load_iris()"
   ]
  },
  {
   "cell_type": "code",
   "execution_count": 75,
   "metadata": {},
   "outputs": [],
   "source": [
    "#X will be our features represented on the x axis, y our target\n",
    "X = iris.data\n",
    "y = iris.target"
   ]
  },
  {
   "cell_type": "code",
   "execution_count": 76,
   "metadata": {},
   "outputs": [],
   "source": [
    "#since iris dataset has 150 rows, .3 will be used to test our net(50)\n",
    "from sklearn.cross_validation import train_test_split\n",
    "X_train, X_test, y_train, y_test = train_test_split(X, y, test_size = .3)"
   ]
  },
  {
   "cell_type": "code",
   "execution_count": 77,
   "metadata": {},
   "outputs": [],
   "source": [
    "#Our scrappy version of KNearestNeighbors CLF\n",
    "my_CLF = ScrappyKNN()\n",
    "my_CLF.fit(X_train, y_train)\n",
    "predictions = my_CLF.predict(X_test)"
   ]
  },
  {
   "cell_type": "code",
   "execution_count": 83,
   "metadata": {},
   "outputs": [
    {
     "name": "stdout",
     "output_type": "stream",
     "text": [
      "0.9111111111111111\n",
      "\n",
      "\n",
      "('Targets are ', array([2, 1, 0, 2, 0, 1, 1, 2, 0, 0, 0, 2, 1, 1, 1, 0, 1, 1, 0, 0, 2, 2,\n",
      "       2, 1, 0, 1, 1, 1, 1, 1, 1, 0, 0, 2, 0, 2, 1, 2, 2, 1, 0, 0, 0, 2,\n",
      "       2]))\n",
      "\n",
      "\n",
      "('Outputs are ', [2, 1, 0, 2, 0, 1, 2, 2, 0, 0, 0, 2, 2, 1, 1, 0, 1, 1, 0, 0, 2, 2, 1, 1, 0, 2, 1, 1, 1, 1, 1, 0, 0, 2, 0, 2, 1, 2, 2, 1, 0, 0, 0, 2, 2])\n",
      "\n",
      "\n",
      "('Errors are ', array([0, 0, 0, 0, 0, 0, 1, 0, 0, 0, 0, 0, 1, 0, 0, 0, 0, 0, 0, 0, 0, 0,\n",
      "       1, 0, 0, 1, 0, 0, 0, 0, 0, 0, 0, 0, 0, 0, 0, 0, 0, 0, 0, 0, 0, 0,\n",
      "       0]))\n",
      "\n",
      "\n",
      "('Number of errors is ', 4)\n",
      "\n",
      "\n",
      "('Confusion matrix is ', array([[15,  0,  0],\n",
      "       [ 0, 14,  1],\n",
      "       [ 0,  3, 12]], dtype=int64))\n"
     ]
    }
   ],
   "source": [
    "#Testing to see how well it did\n",
    "from sklearn.metrics import accuracy_score\n",
    "print accuracy_score(y_test, predictions)\n",
    "print('\\n')\n",
    "print('Targets are ', y_test)\n",
    "print('\\n')\n",
    "print('Outputs are ', predictions)\n",
    "print('\\n')\n",
    "print('Errors are ', abs(predictions-y_test))\n",
    "print('\\n')\n",
    "print('Number of errors is ', sum(abs(predictions-y_test)))\n",
    "print('\\n')\n",
    "from sklearn.metrics import confusion_matrix\n",
    "print('Confusion matrix is ',confusion_matrix(predictions, y_test))"
   ]
  }
 ],
 "metadata": {
  "kernelspec": {
   "display_name": "Python 2",
   "language": "python",
   "name": "python2"
  },
  "language_info": {
   "codemirror_mode": {
    "name": "ipython",
    "version": 2
   },
   "file_extension": ".py",
   "mimetype": "text/x-python",
   "name": "python",
   "nbconvert_exporter": "python",
   "pygments_lexer": "ipython2",
   "version": "2.7.15"
  }
 },
 "nbformat": 4,
 "nbformat_minor": 2
}
