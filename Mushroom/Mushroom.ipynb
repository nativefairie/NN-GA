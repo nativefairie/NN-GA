{
 "cells": [
  {
   "cell_type": "code",
   "execution_count": 79,
   "metadata": {},
   "outputs": [],
   "source": [
    "#MUSHROOM\n",
    "import numpy as np\n",
    "import pandas as pd\n",
    "from sklearn.linear_model import LogisticRegression\n",
    "from sklearn import metrics\n",
    "from sklearn.preprocessing import StandardScaler, LabelEncoder\n",
    "from sklearn.model_selection import (cross_val_score, GridSearchCV, \n",
    "                                     train_test_split, StratifiedShuffleSplit)\n",
    "#[8124 rows x 23 columns]\n",
    "#Random numbers work by starting with a number (the seed), then the resulting no is the seed.\n",
    "seed = 1\n",
    "np.random.seed(seed)\n",
    "\n",
    "# Loading the dataset\n",
    "data = pd.read_csv('mushrooms.csv', delimiter=',', header=None)\n",
    "data.head()\n",
    "#We attr column labels // taken from uci.edu description\n",
    "column_labels = [\n",
    "    'class', 'cap shape', 'cap surface', 'cap color', 'bruised', 'odor',\n",
    "    'gill attachment', 'gill spacing', 'gill size', 'gill color', \n",
    "    'stalk shape', 'stalk root', 'stalk surface above ring',\n",
    "    'stalk surface below ring', 'stalk color above ring',\n",
    "    'stalk color below ring', 'veil type', 'veil color', 'ring number',\n",
    "    'ring type', 'spore print color', 'population', 'habitat'\n",
    "]\n",
    "\n",
    "data.columns = column_labels\n",
    "#initial = data.shape\n",
    "#print initial\n",
    "#UCI.edu says: Missing Attribute Values: 2480 of them (denoted by \"?\"), all for attribute #11.\n",
    "#so we dissmiss them\n",
    "data = data[data['stalk root'] != '?'] #if stalk root entry is unkonown will not be memorized in data\n",
    "X = data.loc[:, data.columns != 'class'] #label-based, we memorize the features in X, apart from labels\n",
    "X.head()\n",
    "#print X.shape\n",
    "y = data['class'].to_frame() #table like data, as X is structured already\n",
    "y.head()\n",
    "#print y.shape\n",
    "#final = data.shape\n",
    "#print initial[0] - final[0]\n",
    "#our data is categorical so we'll need to encode data to train clf. get dummies from pandas will do\n",
    "X_numerical= pd.get_dummies(X)\n",
    "X_numerical.head()\n",
    "\n",
    "scaler = StandardScaler()\n",
    "X = scaler.fit_transform(X_numerical)\n",
    "\n",
    "LE = LabelEncoder()\n",
    "y = LE.fit_transform(y.values.ravel())"
   ]
  },
  {
   "cell_type": "code",
   "execution_count": 80,
   "metadata": {},
   "outputs": [],
   "source": [
    "from sklearn.model_selection import train_test_split\n",
    "xTrain, xTest, yTrain, yTest = train_test_split(X, y,  test_size=.3)"
   ]
  },
  {
   "cell_type": "code",
   "execution_count": 84,
   "metadata": {},
   "outputs": [
    {
     "name": "stdout",
     "output_type": "stream",
     "text": [
      "0.9988193624557261\n"
     ]
    }
   ],
   "source": [
    "from sklearn.neural_network import MLPClassifier\n",
    "my_clf = MLPClassifier(hidden_layer_sizes=(10),solver='sgd',learning_rate_init=0.01,max_iter=500)\n",
    "\n",
    "# Train the model\n",
    "my_clf.fit(xTrain, yTrain)\n",
    "\n",
    "#Test the model\n",
    "predictions = my_clf.predict(xTest)\n",
    "\n",
    "#Testing to see how well it did\n",
    "from sklearn.metrics import accuracy_score\n",
    "print accuracy_score(yTest, predictions)\n"
   ]
  },
  {
   "cell_type": "code",
   "execution_count": null,
   "metadata": {},
   "outputs": [],
   "source": []
  }
 ],
 "metadata": {
  "kernelspec": {
   "display_name": "Python 2",
   "language": "python",
   "name": "python2"
  },
  "language_info": {
   "codemirror_mode": {
    "name": "ipython",
    "version": 2
   },
   "file_extension": ".py",
   "mimetype": "text/x-python",
   "name": "python",
   "nbconvert_exporter": "python",
   "pygments_lexer": "ipython2",
   "version": "2.7.15"
  }
 },
 "nbformat": 4,
 "nbformat_minor": 2
}
