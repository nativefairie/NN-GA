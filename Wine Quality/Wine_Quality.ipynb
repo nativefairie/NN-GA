{
 "cells": [
  {
   "cell_type": "code",
   "execution_count": 106,
   "metadata": {},
   "outputs": [],
   "source": [
    "import numpy as np\n",
    "import pandas as pd\n",
    "from sklearn.neural_network import MLPRegressor\n",
    "from sklearn.metrics import accuracy_score\n",
    "from sklearn.model_selection import train_test_split\n",
    "from sklearn.neural_network import MLPClassifier\n",
    "from sklearn.tree import DecisionTreeRegressor\n",
    "from sklearn import linear_model\n",
    "from sklearn.preprocessing import StandardScaler"
   ]
  },
  {
   "cell_type": "code",
   "execution_count": 113,
   "metadata": {},
   "outputs": [],
   "source": [
    "seed = 1\n",
    "np.random.seed(seed)\n",
    "\n",
    "dataset = 'winequality.csv'\n",
    "wine = pd.read_csv(dataset, delimiter=';')"
   ]
  },
  {
   "cell_type": "code",
   "execution_count": 108,
   "metadata": {},
   "outputs": [],
   "source": [
    "X = wine.drop('quality', axis=1)\n",
    "y = wine.quality\n",
    "\n",
    "#Stochastic Gradient Descent is sensitive to feature scaling, so we will scale data;\n",
    "#scale each attribute on the input vector X to [0,1] or [-1,+1]"
   ]
  },
  {
   "cell_type": "code",
   "execution_count": 109,
   "metadata": {},
   "outputs": [
    {
     "data": {
      "text/plain": [
       "LinearRegression(copy_X=True, fit_intercept=True, n_jobs=1, normalize=False)"
      ]
     },
     "execution_count": 109,
     "metadata": {},
     "output_type": "execute_result"
    }
   ],
   "source": [
    "X_train, X_test, y_train, y_test = train_test_split(X, y, test_size=0.2, random_state=123, stratify = y)\n",
    "#clf = MLPRegressor(learning_rate_init=0.1,max_iter=500) obtained only .5 accuracy\n",
    "#clf = MLPClassifier() #even less accuracy, 0.49\n",
    "#clf = DecisionTreeClassifier() #score of 0.6\n",
    "clf = linear_model.LinearRegression()\n",
    "clf.fit(X_train, y_train)"
   ]
  },
  {
   "cell_type": "code",
   "execution_count": 110,
   "metadata": {},
   "outputs": [
    {
     "name": "stdout",
     "output_type": "stream",
     "text": [
      "[6. 6. 5. 6. 6. 6. 5. 5. 5. 6. 5. 5. 6. 5. 5. 6. 7. 6. 5. 7. 6. 5. 5. 6.\n",
      " 6. 5. 5. 5. 6. 6. 5. 7. 6. 5. 5. 6. 5. 6. 5. 6. 5. 6. 6. 5. 6. 5. 5. 5.\n",
      " 5. 6. 6. 5. 6. 5. 6. 6. 6. 5. 5. 5. 5. 5. 5. 5. 6. 6. 6. 5. 5. 6. 5. 6.\n",
      " 5. 5. 5. 6. 5. 5. 6. 5. 6. 5. 6. 6. 5. 6. 7. 6. 6. 6. 6. 6. 7. 5. 5. 5.\n",
      " 6. 7. 5. 7. 5. 6. 5. 6. 5. 5. 5. 4. 6. 6. 6. 6. 6. 5. 6. 5. 6. 5. 4. 6.\n",
      " 6. 5. 5. 6. 5. 5. 6. 6. 6. 6. 6. 6. 5. 6. 5. 8. 5. 5. 7. 6. 5. 5. 5. 6.\n",
      " 5. 6. 5. 7. 6. 5. 5. 5. 5. 5. 5. 6. 5. 5. 6. 5. 6. 5. 5. 6. 5. 6. 5. 5.\n",
      " 5. 5. 6. 5. 5. 5. 5. 5. 5. 5. 5. 5. 6. 5. 5. 5. 5. 6. 5. 6. 5. 5. 6. 6.\n",
      " 6. 6. 6. 5. 6. 5. 6. 5. 6. 5. 5. 5. 6. 6. 5. 5. 5. 6. 6. 6. 6. 6. 6. 5.\n",
      " 5. 5. 5. 5. 5. 6. 6. 5. 6. 6. 5. 6. 5. 6. 5. 5. 6. 6. 5. 5. 7. 6. 7. 6.\n",
      " 6. 6. 6. 6. 6. 5. 6. 6. 5. 6. 5. 5. 5. 5. 6. 6. 6. 5. 5. 7. 6. 6. 5. 6.\n",
      " 6. 6. 6. 5. 6. 6. 5. 5. 6. 6. 6. 5. 6. 7. 7. 5. 5. 6. 6. 6. 7. 5. 7. 6.\n",
      " 5. 5. 5. 5. 5. 6. 6. 6. 6. 6. 6. 5. 5. 6. 6. 6. 7. 6. 6. 5. 5. 6. 5. 5.\n",
      " 6. 6. 6. 5. 6. 5. 6. 6.]\n",
      "797     7\n",
      "871     5\n",
      "1333    5\n",
      "1463    6\n",
      "1058    7\n",
      "1130    6\n",
      "1037    5\n",
      "735     5\n",
      "1560    5\n",
      "1224    6\n",
      "445     6\n",
      "85      5\n",
      "813     4\n",
      "545     5\n",
      "787     6\n",
      "148     6\n",
      "938     7\n",
      "774     6\n",
      "305     6\n",
      "1002    7\n",
      "920     5\n",
      "1441    6\n",
      "71      5\n",
      "1487    5\n",
      "449     6\n",
      "590     5\n",
      "77      6\n",
      "457     5\n",
      "571     6\n",
      "1021    6\n",
      "       ..\n",
      "1484    4\n",
      "392     5\n",
      "992     6\n",
      "1215    6\n",
      "1129    6\n",
      "406     6\n",
      "1182    6\n",
      "921     6\n",
      "827     5\n",
      "367     5\n",
      "1415    5\n",
      "1198    6\n",
      "150     6\n",
      "1068    7\n",
      "821     7\n",
      "552     6\n",
      "197     6\n",
      "536     5\n",
      "894     6\n",
      "1380    6\n",
      "889     5\n",
      "218     5\n",
      "359     6\n",
      "1024    7\n",
      "1066    7\n",
      "211     6\n",
      "162     6\n",
      "748     6\n",
      "914     6\n",
      "557     5\n",
      "Name: quality, Length: 320, dtype: int64\n",
      "0.578125\n"
     ]
    }
   ],
   "source": [
    "predictions = clf.predict(X_test)\n",
    "predictions = np.around(predictions, decimals=0)\n",
    "print predictions\n",
    "print y_test\n",
    "print accuracy_score(y_test, predictions)"
   ]
  },
  {
   "cell_type": "code",
   "execution_count": null,
   "metadata": {},
   "outputs": [],
   "source": []
  },
  {
   "cell_type": "code",
   "execution_count": null,
   "metadata": {},
   "outputs": [],
   "source": []
  }
 ],
 "metadata": {
  "kernelspec": {
   "display_name": "Python 2",
   "language": "python",
   "name": "python2"
  },
  "language_info": {
   "codemirror_mode": {
    "name": "ipython",
    "version": 2
   },
   "file_extension": ".py",
   "mimetype": "text/x-python",
   "name": "python",
   "nbconvert_exporter": "python",
   "pygments_lexer": "ipython2",
   "version": "2.7.15"
  }
 },
 "nbformat": 4,
 "nbformat_minor": 2
}
